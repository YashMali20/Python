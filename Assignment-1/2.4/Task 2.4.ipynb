{
 "cells": [
  {
   "cell_type": "code",
   "execution_count": 13,
   "metadata": {},
   "outputs": [
    {
     "name": "stdout",
     "output_type": "stream",
     "text": [
      "WE, THE PEOPLE OF INDIA,\n",
      "\thaving solemnly resolved to constitute India into a SOVEREIGN,!\n",
      "\t\tSOCIALIST, SECULAR, DEMOCRATIC REPUBLIC \n",
      "\t\tand to secure to allits citizens\n"
     ]
    }
   ],
   "source": [
    "# Write a Python Program to print the given string in the format specified in the sample output.\n",
    "\n",
    "a=\"we, the people of india,\"\n",
    "b=\"having solemnly resolved to constitute India into a SOVEREIGN,\" \n",
    "c=\"SOCIALIST, SECULAR, DEMOCRATIC REPUBLIC \"\n",
    "d=\"and to secure to allits citizens\"\n",
    "\n",
    "print(a.upper())\n",
    "print('\\t'+b+'!')\n",
    "print('\\t\\t'+c.upper())\n",
    "print('\\t\\t'+d.lower())"
   ]
  },
  {
   "cell_type": "code",
   "execution_count": null,
   "metadata": {},
   "outputs": [],
   "source": []
  }
 ],
 "metadata": {
  "kernelspec": {
   "display_name": "Python 3",
   "language": "python",
   "name": "python3"
  },
  "language_info": {
   "codemirror_mode": {
    "name": "ipython",
    "version": 3
   },
   "file_extension": ".py",
   "mimetype": "text/x-python",
   "name": "python",
   "nbconvert_exporter": "python",
   "pygments_lexer": "ipython3",
   "version": "3.7.6"
  }
 },
 "nbformat": 4,
 "nbformat_minor": 4
}
